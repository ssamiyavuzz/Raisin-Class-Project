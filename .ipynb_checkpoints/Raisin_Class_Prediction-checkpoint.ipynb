{
 "cells": [
  {
   "cell_type": "markdown",
   "id": "3610603d",
   "metadata": {},
   "source": [
    "<h1 style=\"background-color: #FAF9F6; font-family: newtimroman; font-size: 250%; color: darkblue; border: 12px solid #A9A9A9; border-radius: 20px; padding: 15px; text-align: center;\">\n",
    "    <b>Raisin Class Prediction</b>\n",
    "</h1>"
   ]
  },
  {
   "cell_type": "markdown",
   "id": "392a02f0-fdda-44ae-a0fc-97f3b03924a9",
   "metadata": {
    "id": "392a02f0-fdda-44ae-a0fc-97f3b03924a9"
   },
   "source": [
    "Data Set Information:\n",
    "\n",
    "Images of Kecimen and Besni raisin varieties grown in Turkey were obtained with CVS. A total of 900 raisin grains were used, including 450 pieces from both varieties. These images were subjected to various stages of pre-processing and 7 morphological features were extracted. These features have been classified using three different artificial intelligence techniques.\n",
    "\n",
    "\n",
    "Attribute Information:\n",
    "\n",
    "1. Area: Gives the number of pixels within the boundaries of the raisin.\n",
    "2. Perimeter: It measures the environment by calculating the distance between the boundaries of the raisin and the pixels around it.\n",
    "3. MajorAxisLength: Gives the length of the main axis, which is the longest line that can be drawn on the raisin.\n",
    "4. MinorAxisLength: Gives the length of the small axis, which is the shortest line that can be drawn on the raisin.\n",
    "5. Eccentricity: It gives a measure of the eccentricity of the ellipse, which has the same moments as raisins.\n",
    "6. ConvexArea: Gives the number of pixels of the smallest convex shell of the region formed by the raisin.\n",
    "7. Extent: Gives the ratio of the region formed by the raisin to the total pixels in the bounding box.\n",
    "8. Class: Kecimen and Besni raisin."
   ]
  },
  {
   "cell_type": "markdown",
   "id": "55622ae0",
   "metadata": {},
   "source": [
    "1. **Area:** Kuru üzümün sınırları içindeki piksel sayısını verir.\n",
    "2. **Perimeter:** Kuru üzümün sınırları ile çevresindeki pikseller arasındaki mesafeyi hesaplayarak çevreyi ölçer.\n",
    "3. **MajorAxisLength:** Kuru üzüm üzerinde çizilebilecek en uzun çizginin uzunluğunu verir.\n",
    "4. **MinorAxisLength:** Kuru üzüm üzerinde çizilebilecek en kısa çizginin uzunluğunu verir.\n",
    "5. **Eccentricity:** Kuru üzümle aynı momentlere sahip elipsin eksantrikliğini ölçer.\n",
    "6. **ConvexArea:** Kuru üzümün oluşturduğu bölgenin en küçük konveks kabuğunun piksel sayısını verir.\n",
    "7. **Extent:** Kuru üzümün oluşturduğu bölgenin, sınırlayıcı kutudaki toplam piksellere oranını verir.\n",
    "8. **Class:** Keçimen ve Besni üzümü."
   ]
  },
  {
   "cell_type": "markdown",
   "id": "4bc36c32",
   "metadata": {},
   "source": [
    "<div class=\"alert alert-warning alert-info\" style=\"background-color: #FAF9F6; border: 5px solid #A9A9A9; border-radius: 10px;\">\n",
    "    <h3 style=\"font-weight: bold; color: darkblue;\">Import Libraries</h3>\n",
    "</div>"
   ]
  },
  {
   "cell_type": "code",
   "execution_count": 3,
   "id": "acb4b26b",
   "metadata": {
    "ExecuteTime": {
     "end_time": "2024-10-04T12:05:29.775464Z",
     "start_time": "2024-10-04T12:05:28.204910Z"
    }
   },
   "outputs": [],
   "source": [
    "import numpy as np\n",
    "import pandas as pd\n",
    "import matplotlib.pyplot as plt\n",
    "import seaborn as sns\n",
    "import plotly\n",
    "import plotly.express as px\n",
    "\n",
    "#%matplotlib inline\n",
    "#%matplotlib notebook\n",
    "\n",
    "plt.rcParams[\"figure.figsize\"] = (9,6)\n",
    "import warnings\n",
    "warnings.filterwarnings(\"ignore\")\n",
    "warnings.warn(\"this will not show\")\n",
    "pd.set_option('display.float_format', lambda x: '%.3f' % x)"
   ]
  },
  {
   "cell_type": "markdown",
   "id": "0790d265",
   "metadata": {},
   "source": [
    "<div class=\"alert alert-warning alert-info\" style=\"background-color: #FAF9F6; border: 5px solid #A9A9A9; border-radius: 10px;\">\n",
    "    <h3 style=\"font-weight: bold; color: darkblue;\">EDA and Visualization</h3>\n",
    "</div>"
   ]
  },
  {
   "cell_type": "code",
   "execution_count": 4,
   "id": "a408cba6",
   "metadata": {
    "ExecuteTime": {
     "end_time": "2024-10-04T12:05:30.106653Z",
     "start_time": "2024-10-04T12:05:29.776469Z"
    },
    "scrolled": false
   },
   "outputs": [
    {
     "data": {
      "text/html": [
       "<div>\n",
       "<style scoped>\n",
       "    .dataframe tbody tr th:only-of-type {\n",
       "        vertical-align: middle;\n",
       "    }\n",
       "\n",
       "    .dataframe tbody tr th {\n",
       "        vertical-align: top;\n",
       "    }\n",
       "\n",
       "    .dataframe thead th {\n",
       "        text-align: right;\n",
       "    }\n",
       "</style>\n",
       "<table border=\"1\" class=\"dataframe\">\n",
       "  <thead>\n",
       "    <tr style=\"text-align: right;\">\n",
       "      <th></th>\n",
       "      <th>Area</th>\n",
       "      <th>MajorAxisLength</th>\n",
       "      <th>MinorAxisLength</th>\n",
       "      <th>Eccentricity</th>\n",
       "      <th>ConvexArea</th>\n",
       "      <th>Extent</th>\n",
       "      <th>Perimeter</th>\n",
       "      <th>Class</th>\n",
       "    </tr>\n",
       "  </thead>\n",
       "  <tbody>\n",
       "    <tr>\n",
       "      <th>0</th>\n",
       "      <td>87524</td>\n",
       "      <td>442.246</td>\n",
       "      <td>253.291</td>\n",
       "      <td>0.820</td>\n",
       "      <td>90546</td>\n",
       "      <td>0.759</td>\n",
       "      <td>1184.040</td>\n",
       "      <td>Kecimen</td>\n",
       "    </tr>\n",
       "    <tr>\n",
       "      <th>1</th>\n",
       "      <td>75166</td>\n",
       "      <td>406.691</td>\n",
       "      <td>243.032</td>\n",
       "      <td>0.802</td>\n",
       "      <td>78789</td>\n",
       "      <td>0.684</td>\n",
       "      <td>1121.786</td>\n",
       "      <td>Kecimen</td>\n",
       "    </tr>\n",
       "    <tr>\n",
       "      <th>2</th>\n",
       "      <td>90856</td>\n",
       "      <td>442.267</td>\n",
       "      <td>266.328</td>\n",
       "      <td>0.798</td>\n",
       "      <td>93717</td>\n",
       "      <td>0.638</td>\n",
       "      <td>1208.575</td>\n",
       "      <td>Kecimen</td>\n",
       "    </tr>\n",
       "    <tr>\n",
       "      <th>3</th>\n",
       "      <td>45928</td>\n",
       "      <td>286.541</td>\n",
       "      <td>208.760</td>\n",
       "      <td>0.685</td>\n",
       "      <td>47336</td>\n",
       "      <td>0.700</td>\n",
       "      <td>844.162</td>\n",
       "      <td>Kecimen</td>\n",
       "    </tr>\n",
       "    <tr>\n",
       "      <th>4</th>\n",
       "      <td>79408</td>\n",
       "      <td>352.191</td>\n",
       "      <td>290.828</td>\n",
       "      <td>0.564</td>\n",
       "      <td>81463</td>\n",
       "      <td>0.793</td>\n",
       "      <td>1073.251</td>\n",
       "      <td>Kecimen</td>\n",
       "    </tr>\n",
       "    <tr>\n",
       "      <th>...</th>\n",
       "      <td>...</td>\n",
       "      <td>...</td>\n",
       "      <td>...</td>\n",
       "      <td>...</td>\n",
       "      <td>...</td>\n",
       "      <td>...</td>\n",
       "      <td>...</td>\n",
       "      <td>...</td>\n",
       "    </tr>\n",
       "    <tr>\n",
       "      <th>895</th>\n",
       "      <td>83248</td>\n",
       "      <td>430.077</td>\n",
       "      <td>247.839</td>\n",
       "      <td>0.817</td>\n",
       "      <td>85839</td>\n",
       "      <td>0.669</td>\n",
       "      <td>1129.072</td>\n",
       "      <td>Besni</td>\n",
       "    </tr>\n",
       "    <tr>\n",
       "      <th>896</th>\n",
       "      <td>87350</td>\n",
       "      <td>440.736</td>\n",
       "      <td>259.293</td>\n",
       "      <td>0.809</td>\n",
       "      <td>90899</td>\n",
       "      <td>0.636</td>\n",
       "      <td>1214.252</td>\n",
       "      <td>Besni</td>\n",
       "    </tr>\n",
       "    <tr>\n",
       "      <th>897</th>\n",
       "      <td>99657</td>\n",
       "      <td>431.707</td>\n",
       "      <td>298.837</td>\n",
       "      <td>0.722</td>\n",
       "      <td>106264</td>\n",
       "      <td>0.741</td>\n",
       "      <td>1292.828</td>\n",
       "      <td>Besni</td>\n",
       "    </tr>\n",
       "    <tr>\n",
       "      <th>898</th>\n",
       "      <td>93523</td>\n",
       "      <td>476.344</td>\n",
       "      <td>254.176</td>\n",
       "      <td>0.846</td>\n",
       "      <td>97653</td>\n",
       "      <td>0.659</td>\n",
       "      <td>1258.548</td>\n",
       "      <td>Besni</td>\n",
       "    </tr>\n",
       "    <tr>\n",
       "      <th>899</th>\n",
       "      <td>85609</td>\n",
       "      <td>512.082</td>\n",
       "      <td>215.272</td>\n",
       "      <td>0.907</td>\n",
       "      <td>89197</td>\n",
       "      <td>0.632</td>\n",
       "      <td>1272.862</td>\n",
       "      <td>Besni</td>\n",
       "    </tr>\n",
       "  </tbody>\n",
       "</table>\n",
       "<p>900 rows × 8 columns</p>\n",
       "</div>"
      ],
      "text/plain": [
       "      Area  MajorAxisLength  MinorAxisLength  Eccentricity  ConvexArea  \\\n",
       "0    87524          442.246          253.291         0.820       90546   \n",
       "1    75166          406.691          243.032         0.802       78789   \n",
       "2    90856          442.267          266.328         0.798       93717   \n",
       "3    45928          286.541          208.760         0.685       47336   \n",
       "4    79408          352.191          290.828         0.564       81463   \n",
       "..     ...              ...              ...           ...         ...   \n",
       "895  83248          430.077          247.839         0.817       85839   \n",
       "896  87350          440.736          259.293         0.809       90899   \n",
       "897  99657          431.707          298.837         0.722      106264   \n",
       "898  93523          476.344          254.176         0.846       97653   \n",
       "899  85609          512.082          215.272         0.907       89197   \n",
       "\n",
       "     Extent  Perimeter    Class  \n",
       "0     0.759   1184.040  Kecimen  \n",
       "1     0.684   1121.786  Kecimen  \n",
       "2     0.638   1208.575  Kecimen  \n",
       "3     0.700    844.162  Kecimen  \n",
       "4     0.793   1073.251  Kecimen  \n",
       "..      ...        ...      ...  \n",
       "895   0.669   1129.072    Besni  \n",
       "896   0.636   1214.252    Besni  \n",
       "897   0.741   1292.828    Besni  \n",
       "898   0.659   1258.548    Besni  \n",
       "899   0.632   1272.862    Besni  \n",
       "\n",
       "[900 rows x 8 columns]"
      ]
     },
     "execution_count": 4,
     "metadata": {},
     "output_type": "execute_result"
    }
   ],
   "source": [
    "df = pd.read_excel('Raisin_Dataset.xlsx')\n",
    "df"
   ]
  },
  {
   "cell_type": "code",
   "execution_count": 5,
   "id": "04e63644",
   "metadata": {
    "ExecuteTime": {
     "end_time": "2024-10-04T12:07:48.650230Z",
     "start_time": "2024-10-04T12:07:48.630310Z"
    }
   },
   "outputs": [
    {
     "name": "stdout",
     "output_type": "stream",
     "text": [
      "<class 'pandas.core.frame.DataFrame'>\n",
      "RangeIndex: 900 entries, 0 to 899\n",
      "Data columns (total 8 columns):\n",
      " #   Column           Non-Null Count  Dtype  \n",
      "---  ------           --------------  -----  \n",
      " 0   Area             900 non-null    int64  \n",
      " 1   MajorAxisLength  900 non-null    float64\n",
      " 2   MinorAxisLength  900 non-null    float64\n",
      " 3   Eccentricity     900 non-null    float64\n",
      " 4   ConvexArea       900 non-null    int64  \n",
      " 5   Extent           900 non-null    float64\n",
      " 6   Perimeter        900 non-null    float64\n",
      " 7   Class            900 non-null    object \n",
      "dtypes: float64(5), int64(2), object(1)\n",
      "memory usage: 56.4+ KB\n"
     ]
    }
   ],
   "source": [
    "df.info()"
   ]
  },
  {
   "cell_type": "code",
   "execution_count": 6,
   "id": "527e89ab",
   "metadata": {
    "ExecuteTime": {
     "end_time": "2024-10-04T12:08:17.325171Z",
     "start_time": "2024-10-04T12:08:17.299233Z"
    }
   },
   "outputs": [
    {
     "data": {
      "text/html": [
       "<div>\n",
       "<style scoped>\n",
       "    .dataframe tbody tr th:only-of-type {\n",
       "        vertical-align: middle;\n",
       "    }\n",
       "\n",
       "    .dataframe tbody tr th {\n",
       "        vertical-align: top;\n",
       "    }\n",
       "\n",
       "    .dataframe thead th {\n",
       "        text-align: right;\n",
       "    }\n",
       "</style>\n",
       "<table border=\"1\" class=\"dataframe\">\n",
       "  <thead>\n",
       "    <tr style=\"text-align: right;\">\n",
       "      <th></th>\n",
       "      <th>count</th>\n",
       "      <th>mean</th>\n",
       "      <th>std</th>\n",
       "      <th>min</th>\n",
       "      <th>25%</th>\n",
       "      <th>50%</th>\n",
       "      <th>75%</th>\n",
       "      <th>max</th>\n",
       "    </tr>\n",
       "  </thead>\n",
       "  <tbody>\n",
       "    <tr>\n",
       "      <th>Area</th>\n",
       "      <td>900.000</td>\n",
       "      <td>87804.128</td>\n",
       "      <td>39002.111</td>\n",
       "      <td>25387.000</td>\n",
       "      <td>59348.000</td>\n",
       "      <td>78902.000</td>\n",
       "      <td>105028.250</td>\n",
       "      <td>235047.000</td>\n",
       "    </tr>\n",
       "    <tr>\n",
       "      <th>MajorAxisLength</th>\n",
       "      <td>900.000</td>\n",
       "      <td>430.930</td>\n",
       "      <td>116.035</td>\n",
       "      <td>225.630</td>\n",
       "      <td>345.443</td>\n",
       "      <td>407.804</td>\n",
       "      <td>494.187</td>\n",
       "      <td>997.292</td>\n",
       "    </tr>\n",
       "    <tr>\n",
       "      <th>MinorAxisLength</th>\n",
       "      <td>900.000</td>\n",
       "      <td>254.488</td>\n",
       "      <td>49.989</td>\n",
       "      <td>143.711</td>\n",
       "      <td>219.111</td>\n",
       "      <td>247.848</td>\n",
       "      <td>279.889</td>\n",
       "      <td>492.275</td>\n",
       "    </tr>\n",
       "    <tr>\n",
       "      <th>Eccentricity</th>\n",
       "      <td>900.000</td>\n",
       "      <td>0.782</td>\n",
       "      <td>0.090</td>\n",
       "      <td>0.349</td>\n",
       "      <td>0.742</td>\n",
       "      <td>0.799</td>\n",
       "      <td>0.843</td>\n",
       "      <td>0.962</td>\n",
       "    </tr>\n",
       "    <tr>\n",
       "      <th>ConvexArea</th>\n",
       "      <td>900.000</td>\n",
       "      <td>91186.090</td>\n",
       "      <td>40769.290</td>\n",
       "      <td>26139.000</td>\n",
       "      <td>61513.250</td>\n",
       "      <td>81651.000</td>\n",
       "      <td>108375.750</td>\n",
       "      <td>278217.000</td>\n",
       "    </tr>\n",
       "    <tr>\n",
       "      <th>Extent</th>\n",
       "      <td>900.000</td>\n",
       "      <td>0.700</td>\n",
       "      <td>0.053</td>\n",
       "      <td>0.380</td>\n",
       "      <td>0.671</td>\n",
       "      <td>0.707</td>\n",
       "      <td>0.735</td>\n",
       "      <td>0.835</td>\n",
       "    </tr>\n",
       "    <tr>\n",
       "      <th>Perimeter</th>\n",
       "      <td>900.000</td>\n",
       "      <td>1165.907</td>\n",
       "      <td>273.764</td>\n",
       "      <td>619.074</td>\n",
       "      <td>966.411</td>\n",
       "      <td>1119.509</td>\n",
       "      <td>1308.390</td>\n",
       "      <td>2697.753</td>\n",
       "    </tr>\n",
       "  </tbody>\n",
       "</table>\n",
       "</div>"
      ],
      "text/plain": [
       "                  count      mean       std       min       25%       50%  \\\n",
       "Area            900.000 87804.128 39002.111 25387.000 59348.000 78902.000   \n",
       "MajorAxisLength 900.000   430.930   116.035   225.630   345.443   407.804   \n",
       "MinorAxisLength 900.000   254.488    49.989   143.711   219.111   247.848   \n",
       "Eccentricity    900.000     0.782     0.090     0.349     0.742     0.799   \n",
       "ConvexArea      900.000 91186.090 40769.290 26139.000 61513.250 81651.000   \n",
       "Extent          900.000     0.700     0.053     0.380     0.671     0.707   \n",
       "Perimeter       900.000  1165.907   273.764   619.074   966.411  1119.509   \n",
       "\n",
       "                       75%        max  \n",
       "Area            105028.250 235047.000  \n",
       "MajorAxisLength    494.187    997.292  \n",
       "MinorAxisLength    279.889    492.275  \n",
       "Eccentricity         0.843      0.962  \n",
       "ConvexArea      108375.750 278217.000  \n",
       "Extent               0.735      0.835  \n",
       "Perimeter         1308.390   2697.753  "
      ]
     },
     "execution_count": 6,
     "metadata": {},
     "output_type": "execute_result"
    }
   ],
   "source": [
    "df.describe().T"
   ]
  },
  {
   "cell_type": "code",
   "execution_count": 7,
   "id": "80189e2f",
   "metadata": {
    "ExecuteTime": {
     "end_time": "2024-10-04T12:08:36.136038Z",
     "start_time": "2024-10-04T12:08:36.131237Z"
    }
   },
   "outputs": [
    {
     "data": {
      "text/plain": [
       "(900, 8)"
      ]
     },
     "execution_count": 7,
     "metadata": {},
     "output_type": "execute_result"
    }
   ],
   "source": [
    "df.shape"
   ]
  },
  {
   "cell_type": "code",
   "execution_count": null,
   "id": "388e1c4d",
   "metadata": {},
   "outputs": [],
   "source": []
  },
  {
   "cell_type": "code",
   "execution_count": null,
   "id": "6ad60849",
   "metadata": {},
   "outputs": [],
   "source": []
  },
  {
   "cell_type": "code",
   "execution_count": 7,
   "id": "af30adb5",
   "metadata": {},
   "outputs": [],
   "source": [
    "df.rename(columns={column : column.lower() for column in df.columns}, inplace=True)"
   ]
  },
  {
   "cell_type": "code",
   "execution_count": null,
   "id": "6fcf0109",
   "metadata": {},
   "outputs": [],
   "source": []
  },
  {
   "cell_type": "code",
   "execution_count": null,
   "id": "3ef1d072",
   "metadata": {},
   "outputs": [],
   "source": []
  },
  {
   "cell_type": "code",
   "execution_count": null,
   "id": "d330ace9",
   "metadata": {},
   "outputs": [],
   "source": []
  },
  {
   "cell_type": "code",
   "execution_count": null,
   "id": "3b022c75",
   "metadata": {},
   "outputs": [],
   "source": []
  },
  {
   "cell_type": "markdown",
   "id": "c7a318ed",
   "metadata": {},
   "source": [
    "<div class=\"alert alert-warning alert-info\" style=\"background-color: #FAF9F6; border: 5px solid #A9A9A9; border-radius: 10px;\">\n",
    "    <h3 style=\"font-weight: bold; color: darkblue;\">Train | Test Split and Scaling</h3>\n",
    "</div>"
   ]
  },
  {
   "cell_type": "code",
   "execution_count": null,
   "id": "3e3683ed",
   "metadata": {},
   "outputs": [],
   "source": []
  },
  {
   "cell_type": "markdown",
   "id": "57523546",
   "metadata": {},
   "source": [
    "<div class=\"alert alert-warning alert-info\" style=\"background-color: #FAF9F6; border: 5px solid #A9A9A9; border-radius: 10px;\">\n",
    "    <h3 style=\"font-weight: bold; color: darkblue;\">Logistic Regression</h3>\n",
    "</div>"
   ]
  },
  {
   "cell_type": "code",
   "execution_count": 25,
   "id": "31124f68",
   "metadata": {},
   "outputs": [],
   "source": [
    "from sklearn.linear_model import LogisticRegression\n",
    "\n",
    "from sklearn.preprocessing import StandardScaler\n",
    "\n",
    "from sklearn.pipeline import Pipeline"
   ]
  },
  {
   "cell_type": "code",
   "execution_count": null,
   "id": "d622f8ae",
   "metadata": {},
   "outputs": [],
   "source": []
  },
  {
   "cell_type": "markdown",
   "id": "170e4e80",
   "metadata": {},
   "source": [
    "<div class=\"alert alert-warning alert-info\" style=\"background-color: #FAF9F6; border: 5px solid #A9A9A9; border-radius: 10px;\">\n",
    "    <h3 style=\"font-weight: bold; color: darkblue;\">Model Performance</h3>\n",
    "</div>"
   ]
  },
  {
   "cell_type": "code",
   "execution_count": 58,
   "id": "102feab4",
   "metadata": {},
   "outputs": [],
   "source": [
    "from sklearn.metrics import accuracy_score, precision_score, recall_score, f1_score, log_loss\n",
    "from sklearn.metrics import accuracy_score, confusion_matrix, classification_report, ConfusionMatrixDisplay\n",
    "from sklearn.metrics import ConfusionMatrixDisplay, confusion_matrix, classification_report"
   ]
  },
  {
   "cell_type": "code",
   "execution_count": null,
   "id": "2b75374d",
   "metadata": {},
   "outputs": [],
   "source": []
  },
  {
   "cell_type": "markdown",
   "id": "e5d37897",
   "metadata": {},
   "source": [
    "<div class=\"alert alert-warning alert-info\" style=\"background-color: #FAF9F6; border: 5px solid #A9A9A9; border-radius: 10px;\">\n",
    "    <h3 style=\"font-weight: bold; color: darkblue;\">CV</h3>\n",
    "</div>"
   ]
  },
  {
   "cell_type": "code",
   "execution_count": null,
   "id": "43c1838e",
   "metadata": {},
   "outputs": [],
   "source": []
  },
  {
   "cell_type": "markdown",
   "id": "51c5e4fb",
   "metadata": {},
   "source": [
    "<div class=\"alert alert-warning alert-info\" style=\"background-color: #FAF9F6; border: 5px solid #A9A9A9; border-radius: 10px;\">\n",
    "    <h3 style=\"font-weight: bold; color: darkblue;\">GridSearchCV</h3>\n",
    "</div>"
   ]
  },
  {
   "cell_type": "code",
   "execution_count": null,
   "id": "449bdf8f",
   "metadata": {},
   "outputs": [],
   "source": []
  },
  {
   "cell_type": "markdown",
   "id": "410cca33",
   "metadata": {},
   "source": [
    "<div class=\"alert alert-warning alert-info\" style=\"background-color: #FAF9F6; border: 5px solid #A9A9A9; border-radius: 10px;\">\n",
    "    <h3 style=\"font-weight: bold; color: darkblue;\">ROC (Receiver Operating Curve) and AUC (Area Under Curve)</h3>\n",
    "</div>"
   ]
  },
  {
   "cell_type": "code",
   "execution_count": null,
   "id": "41c4a402",
   "metadata": {},
   "outputs": [],
   "source": []
  },
  {
   "cell_type": "markdown",
   "id": "038a8c5b",
   "metadata": {},
   "source": [
    "<div class=\"alert alert-warning alert-info\" style=\"background-color: #FAF9F6; border: 5px solid #A9A9A9; border-radius: 10px;\">\n",
    "    <h3 style=\"font-weight: bold; color: darkblue;\">Conclusion</h3>\n",
    "</div>"
   ]
  },
  {
   "cell_type": "raw",
   "id": "2774b187",
   "metadata": {
    "id": "aae17dd9"
   },
   "source": []
  }
 ],
 "metadata": {
  "colab": {
   "collapsed_sections": [],
   "name": "Case Study_2_solution-.ipynb",
   "provenance": []
  },
  "hide_input": false,
  "interpreter": {
   "hash": "b91502e98c93ec413571a3c4a71c4e7e2f090119475bdef759aa0802c5125d05"
  },
  "kernelspec": {
   "display_name": "Python 3 (ipykernel)",
   "language": "python",
   "name": "python3"
  },
  "language_info": {
   "codemirror_mode": {
    "name": "ipython",
    "version": 3
   },
   "file_extension": ".py",
   "mimetype": "text/x-python",
   "name": "python",
   "nbconvert_exporter": "python",
   "pygments_lexer": "ipython3",
   "version": "3.11.5"
  },
  "toc": {
   "base_numbering": 1,
   "nav_menu": {},
   "number_sections": true,
   "sideBar": true,
   "skip_h1_title": false,
   "title_cell": "Table of Contents",
   "title_sidebar": "Contents",
   "toc_cell": false,
   "toc_position": {},
   "toc_section_display": true,
   "toc_window_display": true
  },
  "varInspector": {
   "cols": {
    "lenName": 16,
    "lenType": 16,
    "lenVar": 40
   },
   "kernels_config": {
    "python": {
     "delete_cmd_postfix": "",
     "delete_cmd_prefix": "del ",
     "library": "var_list.py",
     "varRefreshCmd": "print(var_dic_list())"
    },
    "r": {
     "delete_cmd_postfix": ") ",
     "delete_cmd_prefix": "rm(",
     "library": "var_list.r",
     "varRefreshCmd": "cat(var_dic_list()) "
    }
   },
   "types_to_exclude": [
    "module",
    "function",
    "builtin_function_or_method",
    "instance",
    "_Feature"
   ],
   "window_display": false
  }
 },
 "nbformat": 4,
 "nbformat_minor": 5
}
